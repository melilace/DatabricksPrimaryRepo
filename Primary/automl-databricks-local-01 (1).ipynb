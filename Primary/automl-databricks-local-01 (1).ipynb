{
 "cells": [
  {
   "cell_type": "markdown",
   "metadata": {
    "application/vnd.databricks.v1+cell": {
     "cellMetadata": {},
     "inputWidgets": {},
     "nuid": "6c587ba3-4813-4421-8910-9f62895a5b99",
     "showTitle": false,
     "title": ""
    }
   },
   "source": [
    "Copyright (c) Microsoft Corporation. All rights reserved.\n",
    "\n",
    "Licensed under the MIT License."
   ]
  },
  {
   "cell_type": "markdown",
   "metadata": {
    "application/vnd.databricks.v1+cell": {
     "cellMetadata": {},
     "inputWidgets": {},
     "nuid": "e0dec1a8-3e47-41fd-bd29-b637e527f3b9",
     "showTitle": false,
     "title": ""
    }
   },
   "source": [
    "## AutoML Installation\n",
    "\n",
    "**For Databricks non ML runtime 7.1(scala 2.21, spark 3.0.0) and up, Install AML sdk by running the following command in the first cell of the notebook.**\n",
    "\n",
    "%pip install --upgrade --force-reinstall -r https://aka.ms/automl_linux_requirements.txt\n",
    "\n",
    "**For Databricks non ML runtime 7.0 and lower, Install AML sdk using init script as shown in [readme](https://github.com/Azure/MachineLearningNotebooks/blob/master/how-to-use-azureml/azure-databricks/automl/README.md) before running this notebook.**\n"
   ]
  },
  {
   "cell_type": "markdown",
   "metadata": {
    "application/vnd.databricks.v1+cell": {
     "cellMetadata": {},
     "inputWidgets": {},
     "nuid": "b0cf38cf-0c11-4254-b5bd-0cbbcebb8718",
     "showTitle": false,
     "title": ""
    }
   },
   "source": [
    "# AutoML : Classification with Local Compute on Azure DataBricks\n",
    "\n",
    "In this example we use the scikit-learn's to showcase how you can use AutoML for a simple classification problem.\n",
    "\n",
    "In this notebook you will learn how to:\n",
    "1. Create Azure Machine Learning Workspace object and initialize your notebook directory to easily reload this object from a configuration file.\n",
    "2. Create an `Experiment` in an existing `Workspace`.\n",
    "3. Configure AutoML using `AutoMLConfig`.\n",
    "4. Train the model using AzureDataBricks.\n",
    "5. Explore the results.\n",
    "6. Test the best fitted model.\n",
    "\n",
    "Prerequisites:\n",
    "Before running this notebook, please follow the readme for installing necessary libraries to your cluster."
   ]
  },
  {
   "cell_type": "markdown",
   "metadata": {
    "application/vnd.databricks.v1+cell": {
     "cellMetadata": {},
     "inputWidgets": {},
     "nuid": "34891978-023e-412a-b852-071deb46c42b",
     "showTitle": false,
     "title": ""
    }
   },
   "source": [
    "## Register Machine Learning Services Resource Provider\n",
    "Microsoft.MachineLearningServices only needs to be registed once in the subscription. To register it:\n",
    "Start the Azure portal.\n",
    "Select your All services and then Subscription.\n",
    "Select the subscription that you want to use.\n",
    "Click on Resource providers\n",
    "Click the Register link next to Microsoft.MachineLearningServices"
   ]
  },
  {
   "cell_type": "markdown",
   "metadata": {
    "application/vnd.databricks.v1+cell": {
     "cellMetadata": {},
     "inputWidgets": {},
     "nuid": "7bbae765-9d14-4e5f-bbfb-3a9f7f754714",
     "showTitle": false,
     "title": ""
    }
   },
   "source": [
    "### Check the Azure ML Core SDK Version to Validate Your Installation"
   ]
  },
  {
   "cell_type": "code",
   "execution_count": 0,
   "metadata": {
    "application/vnd.databricks.v1+cell": {
     "cellMetadata": {},
     "inputWidgets": {},
     "nuid": "6aae6de5-977a-43b1-9521-0d85b784be6a",
     "showTitle": false,
     "title": ""
    }
   },
   "outputs": [],
   "source": [
    "import azureml.core\n",
    "\n",
    "print(\"SDK Version:\", azureml.core.VERSION)"
   ]
  },
  {
   "cell_type": "markdown",
   "metadata": {
    "application/vnd.databricks.v1+cell": {
     "cellMetadata": {},
     "inputWidgets": {},
     "nuid": "50e49702-b127-4eb3-9f37-32ef9630534e",
     "showTitle": false,
     "title": ""
    }
   },
   "source": [
    "## Initialize an Azure ML Workspace\n",
    "### What is an Azure ML Workspace and Why Do I Need One?\n",
    "\n",
    "An Azure ML workspace is an Azure resource that organizes and coordinates the actions of many other Azure resources to assist in executing and sharing machine learning workflows.  In particular, an Azure ML workspace coordinates storage, databases, and compute resources providing added functionality for machine learning experimentation, operationalization, and the monitoring of operationalized models.\n",
    "\n",
    "\n",
    "### What do I Need?\n",
    "\n",
    "To create or access an Azure ML workspace, you will need to import the Azure ML library and specify following information:\n",
    "* A name for your workspace. You can choose one.\n",
    "* Your subscription id. Use the `id` value from the `az account show` command output above.\n",
    "* The resource group name. The resource group organizes Azure resources and provides a default region for the resources in the group. The resource group will be created if it doesn't exist. Resource groups can be created and viewed in the [Azure portal](https://portal.azure.com)\n",
    "* Supported regions include `eastus2`, `eastus`,`westcentralus`, `southeastasia`, `westeurope`, `australiaeast`, `westus2`, `southcentralus`."
   ]
  },
  {
   "cell_type": "code",
   "execution_count": 0,
   "metadata": {
    "application/vnd.databricks.v1+cell": {
     "cellMetadata": {},
     "inputWidgets": {},
     "nuid": "7dc8e86e-966c-4d7c-aa09-8ab02dc66a95",
     "showTitle": false,
     "title": ""
    }
   },
   "outputs": [],
   "source": [
    "subscription_id = \"<Your SubscriptionId>\" #you should be owner or contributor\n",
    "resource_group = \"<Resource group - new or existing>\" #you should be owner or contributor\n",
    "workspace_name = \"<workspace to be created>\" #your workspace name\n",
    "workspace_region = \"<azureregion>\" #your region"
   ]
  },
  {
   "cell_type": "markdown",
   "metadata": {
    "application/vnd.databricks.v1+cell": {
     "cellMetadata": {},
     "inputWidgets": {},
     "nuid": "bbc70535-8000-48d9-b12f-53da74a2455d",
     "showTitle": false,
     "title": ""
    }
   },
   "source": [
    "## Creating a Workspace\n",
    "If you already have access to an Azure ML workspace you want to use, you can skip this cell.  Otherwise, this cell will create an Azure ML workspace for you in the specified subscription, provided you have the correct permissions for the given `subscription_id`.\n",
    "\n",
    "This will fail when:\n",
    "1. The workspace already exists.\n",
    "2. You do not have permission to create a workspace in the resource group.\n",
    "3. You are not a subscription owner or contributor and no Azure ML workspaces have ever been created in this subscription.\n",
    "\n",
    "If workspace creation fails for any reason other than already existing, please work with your IT administrator to provide you with the appropriate permissions or to provision the required resources.\n",
    "\n",
    "**Note:** Creation of a new workspace can take several minutes."
   ]
  },
  {
   "cell_type": "code",
   "execution_count": 0,
   "metadata": {
    "application/vnd.databricks.v1+cell": {
     "cellMetadata": {},
     "inputWidgets": {},
     "nuid": "03b9e08b-5e4a-4c53-863a-e0255641c6cb",
     "showTitle": false,
     "title": ""
    }
   },
   "outputs": [],
   "source": [
    "# Import the Workspace class and check the Azure ML SDK version.\n",
    "from azureml.core import Workspace\n",
    "\n",
    "ws = Workspace.create(name = workspace_name,\n",
    "                      subscription_id = subscription_id,\n",
    "                      resource_group = resource_group, \n",
    "                      location = workspace_region,                      \n",
    "                      exist_ok=True)\n",
    "ws.get_details()"
   ]
  },
  {
   "cell_type": "markdown",
   "metadata": {
    "application/vnd.databricks.v1+cell": {
     "cellMetadata": {},
     "inputWidgets": {},
     "nuid": "f954aff8-838d-4f24-8ae1-3d583c6ad035",
     "showTitle": false,
     "title": ""
    }
   },
   "source": [
    "## Configuring Your Local Environment\n",
    "You can validate that you have access to the specified workspace and write a configuration file to the default configuration location, `./aml_config/config.json`."
   ]
  },
  {
   "cell_type": "code",
   "execution_count": 0,
   "metadata": {
    "application/vnd.databricks.v1+cell": {
     "cellMetadata": {},
     "inputWidgets": {},
     "nuid": "721ecfe8-f6ac-4948-aa99-e45085402291",
     "showTitle": false,
     "title": ""
    }
   },
   "outputs": [],
   "source": [
    "from azureml.core import Workspace\n",
    "\n",
    "ws = Workspace(workspace_name = workspace_name,\n",
    "               subscription_id = subscription_id,\n",
    "               resource_group = resource_group)\n",
    "\n",
    "# Persist the subscription id, resource group name, and workspace name in aml_config/config.json.\n",
    "ws.write_config()\n",
    "write_config(path=\"/databricks/driver/aml_config/\",file_name=<alias_conf.cfg>)"
   ]
  },
  {
   "cell_type": "markdown",
   "metadata": {
    "application/vnd.databricks.v1+cell": {
     "cellMetadata": {},
     "inputWidgets": {},
     "nuid": "4d5c3612-3fbe-423b-a479-fb87ff0f63aa",
     "showTitle": false,
     "title": ""
    }
   },
   "source": [
    "## Create an Experiment\n",
    "\n",
    "As part of the setup you have already created an Azure ML `Workspace` object. For AutoML you will need to create an `Experiment` object, which is a named object in a `Workspace` used to run experiments."
   ]
  },
  {
   "cell_type": "code",
   "execution_count": 0,
   "metadata": {
    "application/vnd.databricks.v1+cell": {
     "cellMetadata": {},
     "inputWidgets": {},
     "nuid": "93eafe46-1d60-4cbd-a473-8297fc1100af",
     "showTitle": false,
     "title": ""
    }
   },
   "outputs": [],
   "source": [
    "import logging\n",
    "import os\n",
    "import random\n",
    "import time\n",
    "import json\n",
    "\n",
    "from matplotlib import pyplot as plt\n",
    "from matplotlib.pyplot import imshow\n",
    "import numpy as np\n",
    "import pandas as pd\n",
    "\n",
    "import azureml.core\n",
    "from azureml.core.experiment import Experiment\n",
    "from azureml.core.workspace import Workspace\n",
    "from azureml.train.automl import AutoMLConfig\n",
    "from azureml.train.automl.run import AutoMLRun"
   ]
  },
  {
   "cell_type": "code",
   "execution_count": 0,
   "metadata": {
    "application/vnd.databricks.v1+cell": {
     "cellMetadata": {},
     "inputWidgets": {},
     "nuid": "90333cc3-8aa8-4580-a57d-b4b20fc362f4",
     "showTitle": false,
     "title": ""
    }
   },
   "outputs": [],
   "source": [
    "# Choose a name for the experiment and specify the project folder.\n",
    "experiment_name = 'automl-local-classification'\n",
    "\n",
    "experiment = Experiment(ws, experiment_name)\n",
    "\n",
    "output = {}\n",
    "output['SDK version'] = azureml.core.VERSION\n",
    "output['Subscription ID'] = ws.subscription_id\n",
    "output['Workspace Name'] = ws.name\n",
    "output['Resource Group'] = ws.resource_group\n",
    "output['Location'] = ws.location\n",
    "output['Experiment Name'] = experiment.name\n",
    "pd.set_option('display.max_colwidth', -1)\n",
    "pd.DataFrame(data = output, index = ['']).T"
   ]
  },
  {
   "cell_type": "markdown",
   "metadata": {
    "application/vnd.databricks.v1+cell": {
     "cellMetadata": {},
     "inputWidgets": {},
     "nuid": "21c3d9c7-f8d4-444e-984b-fcdc5d0c0486",
     "showTitle": false,
     "title": ""
    }
   },
   "source": [
    "## Load Training Data Using Dataset"
   ]
  },
  {
   "cell_type": "markdown",
   "metadata": {
    "application/vnd.databricks.v1+cell": {
     "cellMetadata": {},
     "inputWidgets": {},
     "nuid": "9d885530-820a-4334-bfcb-1b1075acd067",
     "showTitle": false,
     "title": ""
    }
   },
   "source": [
    "Automated ML takes a `TabularDataset` as input.\n",
    "\n",
    "You are free to use the data preparation libraries/tools of your choice to do the require preparation and once you are done, you can write it to a datastore and create a TabularDataset from it."
   ]
  },
  {
   "cell_type": "code",
   "execution_count": 0,
   "metadata": {
    "application/vnd.databricks.v1+cell": {
     "cellMetadata": {},
     "inputWidgets": {},
     "nuid": "50c2f734-08b7-49a0-a68a-58d890ea2d43",
     "showTitle": false,
     "title": ""
    }
   },
   "outputs": [],
   "source": [
    "# The data referenced here was a 1MB simple random sample of the Chicago Crime data into a local temporary directory.\n",
    "from azureml.core.dataset import Dataset\n",
    "\n",
    "example_data = 'https://dprepdata.blob.core.windows.net/demo/crime0-random.csv'\n",
    "dataset = Dataset.Tabular.from_delimited_files(example_data)\n",
    "dataset.take(5).to_pandas_dataframe()"
   ]
  },
  {
   "cell_type": "markdown",
   "metadata": {
    "application/vnd.databricks.v1+cell": {
     "cellMetadata": {},
     "inputWidgets": {},
     "nuid": "179fe5ba-6398-4f0a-bfd0-5759cf15ee82",
     "showTitle": false,
     "title": ""
    }
   },
   "source": [
    "## Review the TabularDataset\n",
    "You can peek the result of a TabularDataset at any range using `skip(i)` and `take(j).to_pandas_dataframe()`. Doing so evaluates only j records for all the steps in the TabularDataset, which makes it fast even against large datasets."
   ]
  },
  {
   "cell_type": "code",
   "execution_count": 0,
   "metadata": {
    "application/vnd.databricks.v1+cell": {
     "cellMetadata": {},
     "inputWidgets": {},
     "nuid": "b6b2f81e-0ebd-493c-8f5d-c682e6670133",
     "showTitle": false,
     "title": ""
    }
   },
   "outputs": [],
   "source": [
    "training_data = dataset.drop_columns(columns=['FBI Code'])\n",
    "label = 'Primary Type'"
   ]
  },
  {
   "cell_type": "markdown",
   "metadata": {
    "application/vnd.databricks.v1+cell": {
     "cellMetadata": {},
     "inputWidgets": {},
     "nuid": "ad7e7481-a7e4-4351-846a-e74eadd6fda5",
     "showTitle": false,
     "title": ""
    }
   },
   "source": [
    "## Configure AutoML\n",
    "\n",
    "Instantiate an `AutoMLConfig` object to specify the settings and data used to run the experiment.\n",
    "\n",
    "|Property|Description|\n",
    "|-|-|\n",
    "|**task**|classification or regression|\n",
    "|**primary_metric**|This is the metric that you want to optimize. Classification supports the following primary metrics: <br><i>accuracy</i><br><i>AUC_weighted</i><br><i>average_precision_score_weighted</i><br><i>norm_macro_recall</i><br><i>precision_score_weighted</i>|\n",
    "|**primary_metric**|This is the metric that you want to optimize. Regression supports the following primary metrics: <br><i>spearman_correlation</i><br><i>normalized_root_mean_squared_error</i><br><i>r2_score</i><br><i>normalized_mean_absolute_error</i>|\n",
    "|**iteration_timeout_minutes**|Time limit in minutes for each iteration.|\n",
    "|**iterations**|Number of iterations. In each iteration AutoML trains a specific pipeline with the data.|\n",
    "|**spark_context**|Spark Context object. for Databricks, use spark_context=sc|\n",
    "|**max_concurrent_iterations**|Maximum number of iterations to execute in parallel. This should be <= number of worker nodes in your Azure Databricks cluster.|\n",
    "|**n_cross_validations**|Number of cross validation splits.|\n",
    "|**training_data**|Input dataset, containing both features and label column.|\n",
    "|**label_column_name**|The name of the label column.|"
   ]
  },
  {
   "cell_type": "code",
   "execution_count": 0,
   "metadata": {
    "application/vnd.databricks.v1+cell": {
     "cellMetadata": {},
     "inputWidgets": {},
     "nuid": "5110528b-7d91-4efc-8d92-6c0d10a0d5af",
     "showTitle": false,
     "title": ""
    }
   },
   "outputs": [],
   "source": [
    "automl_config = AutoMLConfig(task = 'classification',\n",
    "                             debug_log = 'automl_errors.log',\n",
    "                             primary_metric = 'AUC_weighted',\n",
    "                             iteration_timeout_minutes = 10,\n",
    "                             iterations = 5,\n",
    "                             n_cross_validations = 10,\n",
    "                             max_concurrent_iterations = 2, #change it based on number of worker nodes\n",
    "                             verbosity = logging.INFO,\n",
    "                             spark_context=sc, #databricks/spark related\n",
    "                             training_data=training_data,\n",
    "                             label_column_name=label)"
   ]
  },
  {
   "cell_type": "markdown",
   "metadata": {
    "application/vnd.databricks.v1+cell": {
     "cellMetadata": {},
     "inputWidgets": {},
     "nuid": "931f347a-3edd-4318-9f68-c10acad1b5f3",
     "showTitle": false,
     "title": ""
    }
   },
   "source": [
    "## Train the Models\n",
    "\n",
    "Call the `submit` method on the experiment object and pass the run configuration. Execution of local runs is synchronous. Depending on the data and the number of iterations this can run for a while."
   ]
  },
  {
   "cell_type": "code",
   "execution_count": 0,
   "metadata": {
    "application/vnd.databricks.v1+cell": {
     "cellMetadata": {},
     "inputWidgets": {},
     "nuid": "d88b2bc8-6641-422d-81df-e3d7aeca15c2",
     "showTitle": false,
     "title": ""
    }
   },
   "outputs": [],
   "source": [
    "local_run = experiment.submit(automl_config, show_output = True)"
   ]
  },
  {
   "cell_type": "markdown",
   "metadata": {
    "application/vnd.databricks.v1+cell": {
     "cellMetadata": {},
     "inputWidgets": {},
     "nuid": "7050f3dd-7f8e-4514-85bb-a70430e7bedb",
     "showTitle": false,
     "title": ""
    }
   },
   "source": [
    "## Explore the Results"
   ]
  },
  {
   "cell_type": "markdown",
   "metadata": {
    "application/vnd.databricks.v1+cell": {
     "cellMetadata": {},
     "inputWidgets": {},
     "nuid": "b85ccc1e-3f9f-4dfa-b9bd-7282ad11d38f",
     "showTitle": false,
     "title": ""
    }
   },
   "source": [
    "#### Portal URL for Monitoring Runs\n",
    "\n",
    "The following will provide a link to the web interface to explore individual run details and status. In the future we might support output displayed in the notebook."
   ]
  },
  {
   "cell_type": "code",
   "execution_count": 0,
   "metadata": {
    "application/vnd.databricks.v1+cell": {
     "cellMetadata": {},
     "inputWidgets": {},
     "nuid": "c2d09be6-7130-403d-87fa-4eda18bae22c",
     "showTitle": false,
     "title": ""
    }
   },
   "outputs": [],
   "source": [
    "displayHTML(\"<a href={} target='_blank'>Azure Portal: {}</a>\".format(local_run.get_portal_url(), local_run.id))"
   ]
  },
  {
   "cell_type": "markdown",
   "metadata": {
    "application/vnd.databricks.v1+cell": {
     "cellMetadata": {},
     "inputWidgets": {},
     "nuid": "b607f0fd-4e14-43de-93b0-125f5d7d108a",
     "showTitle": false,
     "title": ""
    }
   },
   "source": [
    "## Deploy\n",
    "\n",
    "### Retrieve the Best Model\n",
    "\n",
    "Below we select the best pipeline from our iterations. The `get_output` method on `automl_classifier` returns the best run and the fitted model for the last invocation. Overloads on `get_output` allow you to retrieve the best run and fitted model for *any* logged metric or for a particular *iteration*."
   ]
  },
  {
   "cell_type": "code",
   "execution_count": 0,
   "metadata": {
    "application/vnd.databricks.v1+cell": {
     "cellMetadata": {},
     "inputWidgets": {},
     "nuid": "749732d8-5b70-4fe4-a058-81b8b0b8aeb5",
     "showTitle": false,
     "title": ""
    }
   },
   "outputs": [],
   "source": [
    "best_run, fitted_model = local_run.get_output()"
   ]
  },
  {
   "cell_type": "markdown",
   "metadata": {
    "application/vnd.databricks.v1+cell": {
     "cellMetadata": {},
     "inputWidgets": {},
     "nuid": "91102d97-b7a8-4e23-870e-39672ce15a4e",
     "showTitle": false,
     "title": ""
    }
   },
   "source": [
    "### Test the Best Fitted Model\n",
    "\n",
    "#### Load Test Data - you can split the dataset beforehand & pass Train dataset to AutoML and use Test dataset to evaluate the best model."
   ]
  },
  {
   "cell_type": "code",
   "execution_count": 0,
   "metadata": {
    "application/vnd.databricks.v1+cell": {
     "cellMetadata": {},
     "inputWidgets": {},
     "nuid": "eb544120-24d6-420d-a3c5-a0d505d6be33",
     "showTitle": false,
     "title": ""
    }
   },
   "outputs": [],
   "source": [
    "dataset_test = Dataset.Tabular.from_delimited_files(path='https://dprepdata.blob.core.windows.net/demo/crime0-test.csv')\n",
    "\n",
    "df_test = dataset_test.to_pandas_dataframe()\n",
    "df_test = df_test[pd.notnull(df_test['Primary Type'])]\n",
    "\n",
    "y_test = df_test[['Primary Type']]\n",
    "X_test = df_test.drop(['Primary Type', 'FBI Code'], axis=1)"
   ]
  },
  {
   "cell_type": "markdown",
   "metadata": {
    "application/vnd.databricks.v1+cell": {
     "cellMetadata": {},
     "inputWidgets": {},
     "nuid": "b198a110-4651-4142-aa6c-20add594918c",
     "showTitle": false,
     "title": ""
    }
   },
   "source": [
    "#### Testing Our Best Fitted Model\n",
    "We will try to predict digits and see how our model works. This is just an example to show you."
   ]
  },
  {
   "cell_type": "code",
   "execution_count": 0,
   "metadata": {
    "application/vnd.databricks.v1+cell": {
     "cellMetadata": {},
     "inputWidgets": {},
     "nuid": "352afe6d-64ca-4310-a633-d126accea8d3",
     "showTitle": false,
     "title": ""
    }
   },
   "outputs": [],
   "source": [
    "fitted_model.predict(X_test)"
   ]
  },
  {
   "cell_type": "markdown",
   "metadata": {
    "application/vnd.databricks.v1+cell": {
     "cellMetadata": {},
     "inputWidgets": {},
     "nuid": "fe0062bd-1501-4eec-8ae4-199b23e8f8f9",
     "showTitle": false,
     "title": ""
    }
   },
   "source": [
    "![Impressions](https://PixelServer20190423114238.azurewebsites.net/api/impressions/MachineLearningNotebooks/how-to-use-azureml/azure-databricks/automl/automl-databricks-local-01.png)"
   ]
  }
 ],
 "metadata": {
  "application/vnd.databricks.v1+notebook": {
   "dashboards": [],
   "environmentMetadata": null,
   "language": "python",
   "notebookMetadata": {
    "pythonIndentUnit": 4
   },
   "notebookName": "automl-databricks-local-01 (1)",
   "widgets": {}
  },
  "authors": [
   {
    "name": "savitam"
   },
   {
    "name": "sasum"
   }
  ],
  "kernelspec": {
   "display_name": "Python 3.8 - AzureML",
   "language": "python",
   "name": "python38-azureml"
  },
  "language_info": {
   "codemirror_mode": {
    "name": "ipython",
    "version": 3
   },
   "file_extension": ".py",
   "mimetype": "text/x-python",
   "name": "python",
   "nbconvert_exporter": "python",
   "pygments_lexer": "ipython3",
   "version": "3.6.8"
  },
  "name": "auto-ml-classification-local-adb",
  "notebookId": 1275190406842063
 },
 "nbformat": 4,
 "nbformat_minor": 0
}
