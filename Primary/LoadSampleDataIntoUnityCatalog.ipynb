{
 "cells": [
  {
   "cell_type": "code",
   "execution_count": 0,
   "metadata": {
    "application/vnd.databricks.v1+cell": {
     "cellMetadata": {
      "byteLimit": 2048000,
      "implicitDf": true,
      "rowLimit": 10000
     },
     "inputWidgets": {},
     "nuid": "8f0e5746-4d8c-43e5-ada1-17a08d80614e",
     "showTitle": false,
     "tableResultSettingsMap": {},
     "title": ""
    }
   },
   "outputs": [],
   "source": [
    "%sql\n",
    "SELECT * FROM samples.nyctaxi.trips;"
   ]
  },
  {
   "cell_type": "code",
   "execution_count": 0,
   "metadata": {
    "application/vnd.databricks.v1+cell": {
     "cellMetadata": {
      "byteLimit": 2048000,
      "implicitDf": true,
      "rowLimit": 10000
     },
     "inputWidgets": {},
     "nuid": "980e471f-41ca-41c0-a7bf-3c9fdcac9104",
     "showTitle": false,
     "tableResultSettingsMap": {},
     "title": ""
    }
   },
   "outputs": [],
   "source": [
    "%sql\n",
    "CREATE TABLE mlworkspaceprimary.default.new_trips AS\n",
    "\n",
    "\n",
    "display(spark.read.table(\"samples.nyctaxi.trips\"))"
   ]
  },
  {
   "cell_type": "code",
   "execution_count": 0,
   "metadata": {
    "application/vnd.databricks.v1+cell": {
     "cellMetadata": {
      "byteLimit": 2048000,
      "implicitDf": true,
      "rowLimit": 10000
     },
     "inputWidgets": {},
     "nuid": "1a4f7fec-c021-4efc-9e29-ae969ec1eb43",
     "showTitle": false,
     "tableResultSettingsMap": {},
     "title": ""
    }
   },
   "outputs": [],
   "source": [
    "%sql\n",
    "-- Create a new schema within the existing catalog\n",
    "--CREATE SCHEMA wrkspaceunitycatalogpolicyweaver.tpch_schema;\n",
    "\n",
    "-- Create and populate the 'customer' table\n",
    "CREATE TABLE wrkspaceunitycatalogpolicyweaver.tpch_schema.customer AS\n",
    "SELECT * FROM samples.tpch.customer;\n",
    "\n",
    "-- Create and populate the 'orders' table\n",
    "CREATE TABLE wrkspaceunitycatalogpolicyweaver.tpch_schema.orders AS\n",
    "SELECT * FROM samples.tpch.orders;\n",
    "\n",
    "-- Create and populate the 'lineitem' table\n",
    "CREATE TABLE wrkspaceunitycatalogpolicyweaver.tpch_schema.lineitem AS\n",
    "SELECT * FROM samples.tpch.lineitem;\n",
    "\n",
    "-- Create and populate the 'nation' table\n",
    "CREATE TABLE wrkspaceunitycatalogpolicyweaver.tpch_schema.nation AS\n",
    "SELECT * FROM samples.tpch.nation;\n",
    "\n",
    "-- Create and populate the 'region' table\n",
    "CREATE TABLE wrkspaceunitycatalogpolicyweaver.tpch_schema.region AS\n",
    "SELECT * FROM samples.tpch.region;\n",
    "\n",
    "-- Create and populate the 'supplier' table\n",
    "CREATE TABLE wrkspaceunitycatalogpolicyweaver.tpch_schema.supplier AS\n",
    "SELECT * FROM samples.tpch.supplier;\n",
    "\n",
    "-- Create and populate the 'part' table\n",
    "CREATE TABLE wrkspaceunitycatalogpolicyweaver.tpch_schema.part AS\n",
    "SELECT * FROM samples.tpch.part;\n",
    "\n",
    "-- Create and populate the 'partsupp' table\n",
    "CREATE TABLE wrkspaceunitycatalogpolicyweaver.tpch_schema.partsupp AS\n",
    "SELECT * FROM samples.tpch.partsupp;"
   ]
  },
  {
   "cell_type": "code",
   "execution_count": 0,
   "metadata": {
    "application/vnd.databricks.v1+cell": {
     "cellMetadata": {
      "byteLimit": 2048000,
      "implicitDf": true,
      "rowLimit": 10000
     },
     "inputWidgets": {},
     "nuid": "d03ba1bf-4593-45fa-b876-68560d48deac",
     "showTitle": false,
     "tableResultSettingsMap": {},
     "title": ""
    }
   },
   "outputs": [],
   "source": [
    "%sql\n",
    "USE CATALOG wrkspaceunitycatalogpolicyweaver"
   ]
  },
  {
   "cell_type": "code",
   "execution_count": 0,
   "metadata": {
    "application/vnd.databricks.v1+cell": {
     "cellMetadata": {
      "byteLimit": 2048000,
      "implicitDf": true,
      "rowLimit": 10000
     },
     "inputWidgets": {},
     "nuid": "92be71d0-7ad4-4d5f-8c67-8d2c2f4659db",
     "showTitle": false,
     "tableResultSettingsMap": {},
     "title": ""
    }
   },
   "outputs": [],
   "source": [
    "%sql\n",
    "CREATE TABLE IF NOT EXISTS default.department\n",
    "(\n",
    "   deptcode   INT,\n",
    "   deptname  STRING,\n",
    "   location  STRING\n",
    ");"
   ]
  },
  {
   "cell_type": "code",
   "execution_count": 0,
   "metadata": {
    "application/vnd.databricks.v1+cell": {
     "cellMetadata": {
      "byteLimit": 2048000,
      "implicitDf": true,
      "rowLimit": 10000
     },
     "inputWidgets": {},
     "nuid": "86673ed6-3ffc-4561-982b-0462c00c56bf",
     "showTitle": false,
     "tableResultSettingsMap": {},
     "title": ""
    }
   },
   "outputs": [],
   "source": [
    "%sql\n",
    "INSERT INTO default.department VALUES\n",
    "   (10, 'FINANCE', 'EDINBURGH'),\n",
    "   (20, 'SOFTWARE', 'PADDINGTON');"
   ]
  }
 ],
 "metadata": {
  "application/vnd.databricks.v1+notebook": {
   "computePreferences": null,
   "dashboards": [],
   "environmentMetadata": null,
   "language": "python",
   "notebookMetadata": {
    "mostRecentlyExecutedCommandWithImplicitDF": {
     "commandId": 1750242579083344,
     "dataframes": [
      "_sqldf"
     ]
    },
    "pythonIndentUnit": 2
   },
   "notebookName": "LoadSampleDataIntoUnityCatalog",
   "widgets": {}
  },
  "language_info": {
   "name": "python"
  }
 },
 "nbformat": 4,
 "nbformat_minor": 0
}
